{
 "cells": [
  {
   "cell_type": "code",
   "execution_count": 3,
   "id": "e0d511eb-fbad-417e-985a-3eb0f2668c0c",
   "metadata": {},
   "outputs": [],
   "source": [
    "#Q7 Create a program that uses a thread pool to calculate the factorial of numbers from 1 to 10 concurrently.Use concurrent.futures.ThreadPoolExecutor to manage the threads?"
   ]
  },
  {
   "cell_type": "code",
   "execution_count": 6,
   "id": "351e4d26-10c6-445a-bb02-7ae7a7d0a2ab",
   "metadata": {},
   "outputs": [
    {
     "name": "stdout",
     "output_type": "stream",
     "text": [
      "1\n",
      "2\n",
      "6\n",
      "24\n",
      "120\n",
      "720\n",
      "5040\n",
      "40320\n",
      "362880\n",
      "3628800\n",
      "Time taken by code: 0.003804460051469505\n"
     ]
    }
   ],
   "source": [
    "import time \n",
    "import threading \n",
    "start=time.perf_counter()\n",
    "import concurrent.futures\n",
    "def fact(n):\n",
    "    if (n==0 or n==1):\n",
    "        return 1\n",
    "    return n*fact(n-1)\n",
    "lis=[1,2,3,4,5,6,7,8,9,10]\n",
    "with concurrent.futures.ThreadPoolExecutor() as executor:\n",
    "    result=executor.map(fact,lis)\n",
    "for i in result:\n",
    "    print(i)\n",
    "end=time.perf_counter()\n",
    "print(\"Time taken by code:\",end-start)"
   ]
  },
  {
   "cell_type": "code",
   "execution_count": 5,
   "id": "967f3413-bbec-4f16-b16d-5a0f341c2856",
   "metadata": {},
   "outputs": [],
   "source": [
    "#Q8  Create a Python program that uses multiprocessing.Pool to compute the square of numbers from 1 to 10 inparallel. Measure the time taken to perform this computation using a pool of different sizes (e.g., 2, 4, 8processes)."
   ]
  },
  {
   "cell_type": "code",
   "execution_count": 8,
   "id": "5ae4cc8c-e9e2-4cda-a7c7-f9eeccf94234",
   "metadata": {},
   "outputs": [
    {
     "name": "stdout",
     "output_type": "stream",
     "text": [
      "1\n",
      "4\n",
      "9\n",
      "16\n",
      "25\n",
      "36\n",
      "49\n",
      "64\n",
      "81\n",
      "100\n",
      "0.4503024750156328\n"
     ]
    }
   ],
   "source": [
    "import time\n",
    "import multiprocessing\n",
    "start = time.perf_counter()\n",
    "def square(x):\n",
    "    return x*x\n",
    "numbers = [1, 2, 3, 4,5,6,7,8,9,10]\n",
    "\n",
    "with multiprocessing.Pool() as pool:\n",
    "    result=pool.map(square, numbers)\n",
    "    \n",
    "end = time.perf_counter()\n",
    "\n",
    "for i in result:\n",
    "    print(i)\n",
    "print(end-start)\n"
   ]
  },
  {
   "cell_type": "code",
   "execution_count": 29,
   "id": "d5c0d1c6-ae3b-49c2-985d-d0c2b8792951",
   "metadata": {},
   "outputs": [],
   "source": [
    "#Q4  Write a Python program using multithreading where one thread adds numbers to a list, and another thread removes numbers from the list. Implement a mechanism to avoid race conditions using threading.Lock?"
   ]
  },
  {
   "cell_type": "code",
   "execution_count": 10,
   "id": "d2b9a001-ab1f-406f-92e8-5284427268fc",
   "metadata": {},
   "outputs": [
    {
     "name": "stdout",
     "output_type": "stream",
     "text": [
      "Added 0 to [0]\n",
      "Removed 0 from [] \n",
      "Added 1 to [1]\n",
      "Removed 1 from [] \n",
      "Added 2 to [2]\n",
      "Removed 2 from [] \n",
      "Added 3 to [3]\n",
      "Removed 3 from [] \n",
      "Added 4 to [4]\n",
      "Removed 4 from [] \n",
      "Added 5 to [5]\n",
      "Removed 5 from [] \n",
      "Added 6 to [6]\n",
      "Removed 6 from [] \n",
      "Added 7 to [7]\n",
      "Removed 7 from [] \n",
      "Added 8 to [8]\n",
      "Removed 8 from [] \n",
      "Added 9 to [9]\n",
      "Removed 9 from [] \n"
     ]
    }
   ],
   "source": [
    "import threading \n",
    "import time\n",
    "list=[]\n",
    "lock=threading.Lock()\n",
    "def adder():\n",
    "    for i in range(10):\n",
    "        with lock:\n",
    "            list.append(i)\n",
    "            print(f\"Added {i} to {list}\")\n",
    "        time.sleep(0.5)\n",
    "def remover():\n",
    "    for i in range(10):\n",
    "        with lock:\n",
    "            if list:\n",
    "                removed=list.pop(0)\n",
    "                print(f\"Removed {removed} from {list} \")\n",
    "            else:\n",
    "                print(\"list is empty, nothing to remove\")\n",
    "        time.sleep(0.5)\n",
    "\n",
    "t1=threading.Thread(target=adder)\n",
    "t2=threading.Thread(target=remover)\n",
    "t1.start()\n",
    "t2.start()\n",
    "t1.join()\n",
    "t2.join()     "
   ]
  },
  {
   "cell_type": "code",
   "execution_count": 11,
   "id": "e39dbbc3-048b-4100-8a24-3fd97e1f8ff2",
   "metadata": {},
   "outputs": [],
   "source": [
    "#Q1 Discuss the scenarios where multithreading is preferable to multiprocessing and scenarios where multiprocessing is a better choice?"
   ]
  },
  {
   "cell_type": "code",
   "execution_count": 12,
   "id": "0c29d386-50b5-49e1-ae6f-f6dbee66df25",
   "metadata": {},
   "outputs": [],
   "source": [
    "#Multithreading is good in tasks which require shared memory and space like downloading and uploading which require continuous thread of shared information \n",
    "#Multiprocessing is very useful in task that involve computation activities, Multitasking because these activities are independent of each other and therefore multi cores are very efficient in this way"
   ]
  },
  {
   "cell_type": "code",
   "execution_count": 13,
   "id": "ac6942ed-fa72-40fc-bc1d-452559b7ab17",
   "metadata": {},
   "outputs": [],
   "source": [
    "#Q2  Describe what a process pool is and how it helps in managing multiple processes efficiently?"
   ]
  },
  {
   "cell_type": "code",
   "execution_count": 14,
   "id": "1c1470a0-1596-4db3-af09-a89e6a369def",
   "metadata": {},
   "outputs": [],
   "source": [
    "#Process pool is very efficient in handeling multiple processes efficiently \n",
    "#It helps in maintaining multiple process and thus help in resource management, optimization, simplified code, scalability,"
   ]
  },
  {
   "cell_type": "code",
   "execution_count": 15,
   "id": "e63e2da1-d374-4434-b292-4099ecc0f393",
   "metadata": {},
   "outputs": [],
   "source": [
    "#Q3 Explain what multiprocessing is and why it is used in Python programs?"
   ]
  },
  {
   "cell_type": "code",
   "execution_count": 17,
   "id": "5c55b582-086c-40ea-9a52-4fdaad5ff295",
   "metadata": {},
   "outputs": [],
   "source": [
    "#Multiprocessing is very efficient way to handle multiple processes as it allows multiple core to work concurrently \n",
    "#It is the best way to handle task like computation and multiple task at the same time. \n",
    "#It decreases time of code manyfolds because of many core working at the same time."
   ]
  },
  {
   "cell_type": "code",
   "execution_count": 19,
   "id": "21878495-2720-4c35-8e54-5b83d5905a2a",
   "metadata": {},
   "outputs": [],
   "source": [
    "#Q5 Describe the methods and tools available in Python for safely sharing data between threads and processes?"
   ]
  },
  {
   "cell_type": "code",
   "execution_count": 23,
   "id": "3427b5b0-259e-4b4f-a1e0-fe993524f7b6",
   "metadata": {},
   "outputs": [],
   "source": [
    "# 1. threading.Lock()\n",
    "#Ensure that only one thread can access a piece of code at a time.\n",
    "\n",
    "#2. multiprocessing.Queue()\n",
    "#Used to share info by sharing data in form of queue (FIFO structure)\n",
    "\n",
    "#3. multiprocessing.Array()\n",
    "#used to share data in form of array \n",
    "\n",
    "#4. multiprocessing.Pipe()\n",
    "#create two way communication channel between process"
   ]
  },
  {
   "cell_type": "code",
   "execution_count": 24,
   "id": "4745029d-45c9-4cf4-8262-f9d794ba3f7d",
   "metadata": {},
   "outputs": [],
   "source": [
    "#Q6 Discuss why it’s crucial to handle exceptions in concurrent programs and the techniques available for doing so?"
   ]
  },
  {
   "cell_type": "code",
   "execution_count": 27,
   "id": "eac33d8a-aa2e-42e5-83c0-5d7068a56ce9",
   "metadata": {},
   "outputs": [
    {
     "name": "stdout",
     "output_type": "stream",
     "text": [
      "There is some error in code\n"
     ]
    }
   ],
   "source": [
    "#It is very good practice in coding to handle exception handeling \n",
    "#It is done by using try/except statement\n",
    "try:\n",
    "    1/0\n",
    "except ZeroDivisionError as e:\n",
    "    print(\"There is some error in code\")"
   ]
  },
  {
   "cell_type": "code",
   "execution_count": 28,
   "id": "578c48ec-c38f-4c69-8722-eabaa585125b",
   "metadata": {},
   "outputs": [],
   "source": [
    "#debugging and logging is also best practice to follow finding errors in code"
   ]
  },
  {
   "cell_type": "code",
   "execution_count": null,
   "id": "39c31c8b-d9ac-498c-8c52-1ea7eeecc904",
   "metadata": {},
   "outputs": [],
   "source": []
  }
 ],
 "metadata": {
  "kernelspec": {
   "display_name": "Python 3 (ipykernel)",
   "language": "python",
   "name": "python3"
  },
  "language_info": {
   "codemirror_mode": {
    "name": "ipython",
    "version": 3
   },
   "file_extension": ".py",
   "mimetype": "text/x-python",
   "name": "python",
   "nbconvert_exporter": "python",
   "pygments_lexer": "ipython3",
   "version": "3.10.8"
  }
 },
 "nbformat": 4,
 "nbformat_minor": 5
}
